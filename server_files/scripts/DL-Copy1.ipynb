{
 "cells": [
  {
   "cell_type": "code",
   "execution_count": null,
   "id": "3d845d37",
   "metadata": {},
   "outputs": [],
   "source": [
    "import numpy as np\n",
    "import pandas as pd\n",
    "import os\n",
    "import glob\n",
    "import copy\n",
    "import matplotlib.pyplot as plt\n",
    "import torch\n",
    "import torch.nn.functional as F\n",
    "from sklearn.utils import shuffle\n",
    "from sklearn.metrics import accuracy_score\n"
   ]
  },
  {
   "cell_type": "code",
   "execution_count": null,
   "id": "1712ea74",
   "metadata": {},
   "outputs": [],
   "source": [
    "from model_arch import  *\n",
    "directory = '/media/togzhan/Samsung_T5/project files/handover_project/data/sample/data/model/server_model'\n",
    "os.chdir(directory + '/server_models/' )#\n",
    "with torch.no_grad():\n",
    "    m = \"biclass_fnn_l1_h_ohe512_bs16_c4_drop0.3_epoch1500_A40_450_fnn\"\n",
    "    #\"biclass_fnn_l1_h_ohe128_bs16_c4_drop0.3_epoch10000_P30_450\"\n",
    "    #biclass_fnn_l1_h_ohe128_bs8_c4_drop0.1_epoch10000_P30_450\n",
    "    #biclass_cnn_l1_h_ohe512_bs8_ks16_c4_drop0.1_epoch10000_P40_450\n",
    "    #biclass_cnn_l1_h_ohe256_bs8_ks16_c4_drop0.1_epoch10000_P40_450\n",
    "    # biclass_cnn_l1_h_ohe512_bs8_ks16_c4_drop0.4_epoch10000_P40_450\n",
    "    model = torch.load(m, map_location = torch.device('cpu'))\n",
    "    device = torch.device(\"cpu\")\n",
    "print(model)"
   ]
  },
  {
   "cell_type": "code",
   "execution_count": null,
   "id": "1989e7f4",
   "metadata": {},
   "outputs": [],
   "source": [
    "t = torch.FloatTensor(df_new_object_new_people.values[:,:].astype('float64'))\n",
    "with torch.no_grad():\n",
    "    model.eval()\n",
    "    output = model(t.to(device))\n",
    "    output = (output>0.5).float()\n",
    "    acc    = accuracy_score(new_object_new_people_labels_y, output.cpu())\n",
    "print(\"new objects new people\",acc)"
   ]
  },
  {
   "cell_type": "code",
   "execution_count": null,
   "id": "86eb9b00",
   "metadata": {},
   "outputs": [],
   "source": []
  },
  {
   "cell_type": "code",
   "execution_count": null,
   "id": "7e7aaa19",
   "metadata": {},
   "outputs": [],
   "source": []
  },
  {
   "cell_type": "code",
   "execution_count": null,
   "id": "eb1f4764",
   "metadata": {},
   "outputs": [],
   "source": []
  }
 ],
 "metadata": {
  "kernelspec": {
   "display_name": "Python 3",
   "language": "python",
   "name": "python3"
  },
  "language_info": {
   "codemirror_mode": {
    "name": "ipython",
    "version": 3
   },
   "file_extension": ".py",
   "mimetype": "text/x-python",
   "name": "python",
   "nbconvert_exporter": "python",
   "pygments_lexer": "ipython3",
   "version": "3.8.10"
  }
 },
 "nbformat": 4,
 "nbformat_minor": 5
}
