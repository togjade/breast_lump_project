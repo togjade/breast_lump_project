{
 "cells": [
  {
   "cell_type": "code",
   "execution_count": 54,
   "id": "5885c294",
   "metadata": {},
   "outputs": [],
   "source": [
    "#!/usr/bin/python\n",
    "import torch\n",
    "import torch.nn as nn\n",
    "import torch.nn.functional as F\n",
    "import numpy as np\n",
    "import pandas as pd\n",
    "from sklearn.utils import shuffle\n",
    "from sklearn.model_selection import train_test_split\n",
    "from sklearn.metrics import accuracy_score\n",
    "import matplotlib.pyplot as plt\n",
    "import os\n",
    "import glob\n",
    "# from model import *\n",
    "from functions import *\n",
    "import pdb\n",
    "import scipy\n",
    "import scipy.stats as stats\n",
    "from scipy.signal import spectrogram\n",
    "from matplotlib.pyplot import specgram\n",
    "from scipy.fft import fft, ifft, fftfreq, fftshift"
   ]
  },
  {
   "cell_type": "markdown",
   "id": "e4da8ffc",
   "metadata": {},
   "source": [
    "# Go to the directory and print the *.csv files "
   ]
  },
  {
   "cell_type": "code",
   "execution_count": 3,
   "id": "0b0e9df7",
   "metadata": {},
   "outputs": [],
   "source": [
    "directory = '/raid/togzhan_syrymova/lump_project/data/'\n",
    "os.chdir(directory)\n",
    "# glob.glob('*.csv')"
   ]
  },
  {
   "cell_type": "markdown",
   "id": "f99409d1",
   "metadata": {},
   "source": [
    "# Load the datasets "
   ]
  },
  {
   "cell_type": "code",
   "execution_count": 4,
   "id": "e7c28e59",
   "metadata": {},
   "outputs": [
    {
     "name": "stdout",
     "output_type": "stream",
     "text": [
      "['df_train_raw_8.csv'] \n",
      "\n",
      "['test_pressure_data_without_raw.csv', 'test_pressure_data_with_raw.csv'] \n",
      "\n",
      "['df_dev_raw_8.csv'] \n",
      "\n",
      "df_train_raw_8.csv \n",
      "\n",
      "test_pressure_data_without_raw.csv \n",
      "\n",
      "df_dev_raw_8.csv \n",
      "\n"
     ]
    }
   ],
   "source": [
    "directory = '/raid/togzhan_syrymova/lump_project/data/'\n",
    "os.chdir(directory)\n",
    "csv_files_train = glob.glob('df_train*raw*8.csv')\n",
    "csv_files_test = glob.glob('test*raw*.csv')\n",
    "csv_files_dev = glob.glob('df_dev*raw*8.csv')\n",
    "\n",
    "index = 0\n",
    "\n",
    "df_train_ = pd.read_csv(csv_files_train[index], sep = ',', header = None)\n",
    "df_train_ = pd.DataFrame(df_train_.values[1:,:])\n",
    "\n",
    "df_test1 = pd.read_csv(csv_files_test[index], sep = ',', header = None)\n",
    "df_test2 = pd.read_csv(csv_files_test[index+1], sep = ',', header = None)\n",
    "df_test_ = pd.concat([df_test1, df_test2], axis = 1)\n",
    "df_test_ = df_test_.transpose()\n",
    "\n",
    "df_dev_ = pd.read_csv(csv_files_dev[index], sep = ',', header = None)\n",
    "df_dev_ = pd.DataFrame(df_dev_.values[1:,:])\n",
    "\n",
    "\n",
    "print(csv_files_train, '\\n')\n",
    "print(csv_files_test, '\\n')\n",
    "print(csv_files_dev, '\\n')\n",
    "\n",
    "print(csv_files_train[index], '\\n')\n",
    "print(csv_files_test[index], '\\n')\n",
    "print(csv_files_dev[index], '\\n')"
   ]
  },
  {
   "cell_type": "markdown",
   "id": "b4891bc8",
   "metadata": {},
   "source": [
    "# Get labels and data separately"
   ]
  },
  {
   "cell_type": "code",
   "execution_count": 5,
   "id": "1a3a332a",
   "metadata": {},
   "outputs": [],
   "source": [
    "# Train and dev labels\n",
    "train_y11 = pd.DataFrame((df_train_.values[:,-1].astype('float64')))\n",
    "dev_y11 = pd.DataFrame((df_dev_.values[:,-1].astype('float64')))\n",
    "\n",
    "# Create test labels\n",
    "test_y11 = pd.concat([ pd.DataFrame([0 for i in range(2*32*9)]), pd.DataFrame([1 for i in range(2*32*9)])], axis=0)\n",
    "test_y11 = test_y11.reset_index(drop=True)\n",
    "\n",
    "\n",
    "df_train1 = pd.DataFrame(df_train_.values[:,:-1].astype('float64'))\n",
    "df_dev1 = pd.DataFrame(df_dev_.values[:,:-1].astype('float64'))\n",
    "df_test1 = df_test_.astype('float64')\n",
    "\n",
    "## SHUFFLE the TEST labels and data\n",
    "test_y1, df_test1 = shuffle(test_y11.astype('float64'), df_test1)"
   ]
  },
  {
   "cell_type": "markdown",
   "id": "98769f6a",
   "metadata": {},
   "source": [
    "# Create 6s segment with moving starting point "
   ]
  },
  {
   "cell_type": "code",
   "execution_count": 61,
   "id": "2ced866c",
   "metadata": {},
   "outputs": [],
   "source": [
    "duration = 6\n",
    "fs = 160\n",
    "samples = 1120\n",
    "start_time = 0 \n",
    "end_time = samples\n",
    "sliding_window = 10\n",
    "# df_data_s = pd.DataFrame()\n",
    "# df_data_w = pd.DataFrame()\n",
    "df_train_inter = pd.DataFrame()\n",
    "df_test_inter = pd.DataFrame()\n",
    "df_dev_inter = pd.DataFrame()\n",
    "\n",
    "for i in range(fs//sliding_window):\n",
    "    df_train_one_inter = pd.DataFrame()\n",
    "    df_test_one_inter = pd.DataFrame()\n",
    "    df_dev_one_inter = pd.DataFrame()\n",
    "    for j in range(15):\n",
    "        start = j*samples+i*sliding_window\n",
    "        end = (j+1)*duration*fs+j*(samples-duration*fs)+i*sliding_window\n",
    "        \n",
    "        df_train_s = pd.DataFrame(df_train1.values[:, start:end])\n",
    "        df_test_s = pd.DataFrame(df_test1.values[:, start:end])\n",
    "        df_dev_s = pd.DataFrame(df_dev1.values[:, start:end])\n",
    "\n",
    "        df_train_one_inter = pd.concat([df_train_one_inter, df_train_s], axis = 1)\n",
    "        df_train_one_inter.columns = [''] * len(df_train_one_inter.columns)\n",
    "        df_train_one_inter = df_train_one_inter.reset_index(drop=True)\n",
    "        \n",
    "        df_test_one_inter = pd.concat([df_test_one_inter, df_test_s], axis = 1)\n",
    "        df_test_one_inter.columns = [''] * len(df_test_one_inter.columns)\n",
    "        df_test_one_inter = df_test_one_inter.reset_index(drop=True)\n",
    "        \n",
    "        df_dev_one_inter = pd.concat([df_dev_one_inter, df_dev_s], axis = 1)\n",
    "        df_dev_one_inter.columns = [''] * len(df_dev_one_inter.columns)\n",
    "        df_dev_one_inter = df_dev_one_inter.reset_index(drop=True)\n",
    "        \n",
    "    df_train_inter = df_train_inter.reset_index(drop=True)\n",
    "    df_train_inter = pd.concat([df_train_inter, df_train_one_inter], axis = 0)\n",
    "    \n",
    "    df_test_inter = df_test_inter.reset_index(drop=True)\n",
    "    df_test_inter = pd.concat([df_test_inter, df_test_one_inter], axis = 0)\n",
    "    \n",
    "    df_dev_inter = df_dev_inter.reset_index(drop=True)\n",
    "    df_dev_inter = pd.concat([df_dev_inter, df_dev_one_inter], axis = 0)"
   ]
  },
  {
   "cell_type": "code",
   "execution_count": 64,
   "id": "78a4f4c6",
   "metadata": {},
   "outputs": [
    {
     "data": {
      "text/plain": [
       "14400"
      ]
     },
     "execution_count": 64,
     "metadata": {},
     "output_type": "execute_result"
    }
   ],
   "source": [
    "15*(160*6)"
   ]
  },
  {
   "cell_type": "code",
   "execution_count": 62,
   "id": "28992753",
   "metadata": {},
   "outputs": [
    {
     "name": "stdout",
     "output_type": "stream",
     "text": [
      "(64512, 14400)\n",
      "(18432, 14400)\n",
      "(9216, 14400)\n"
     ]
    }
   ],
   "source": [
    "print(np.shape(df_train_inter))\n",
    "print(np.shape(df_test_inter))\n",
    "\n",
    "print(np.shape(df_dev_inter))\n"
   ]
  },
  {
   "cell_type": "code",
   "execution_count": 67,
   "id": "3761c83f",
   "metadata": {},
   "outputs": [
    {
     "data": {
      "text/plain": [
       "64512"
      ]
     },
     "execution_count": 67,
     "metadata": {},
     "output_type": "execute_result"
    }
   ],
   "source": [
    "df_train_inter\n",
    "np.shape(df_train_inter)[0]"
   ]
  },
  {
   "cell_type": "markdown",
   "id": "489576c5",
   "metadata": {},
   "source": [
    "# Compute spectogram"
   ]
  },
  {
   "cell_type": "code",
   "execution_count": 68,
   "id": "8bade2c1",
   "metadata": {},
   "outputs": [
    {
     "name": "stdout",
     "output_type": "stream",
     "text": [
      "(64512, 129, 18)\n",
      "(9216, 129, 18)\n",
      "(18432, 129, 18)\n"
     ]
    },
    {
     "data": {
      "image/png": "[encoded data removed]",
      "text/plain": [
       "<Figure size 432x288 with 1 Axes>"
      ]
     },
     "metadata": {
      "needs_background": "light"
     },
     "output_type": "display_data"
    }
   ],
   "source": [
    "   "
   ]
  },
  {
   "cell_type": "code",
   "execution_count": 66,
   "id": "d517cf42",
   "metadata": {},
   "outputs": [
    {
     "name": "stdout",
     "output_type": "stream",
     "text": [
      "(1152, 129, 21)\n"
     ]
    }
   ],
   "source": [
    "print(np.shape(df_test3))"
   ]
  },
  {
   "cell_type": "code",
   "execution_count": null,
   "id": "8fc47e75",
   "metadata": {},
   "outputs": [],
   "source": [
    "df_dev3, t, f = compute_spectogram(df_dev1)\n",
    "dev_y1 = dev_y11\n",
    "print(np.shape(df_dev3))\n",
    "df_test3, t, f = compute_spectogram(df_test1)\n",
    "test_y1 = test_y1\n",
    "print(np.shape(df_test3))"
   ]
  },
  {
   "cell_type": "code",
   "execution_count": null,
   "id": "7e56167e",
   "metadata": {},
   "outputs": [],
   "source": [
    "i = 3\n",
    "j = 0\n",
    "fs = 160 \n",
    "a = specgram(df_train1.values[j, 1120*i:(i+1)*1120], Fs=fs, detrend='mean', mode = 'psd')\n",
    "plt.show()\n",
    "Sxx, f, t, im = specgram(df_train1.values[j, 1120*i:(i+1)*1120], Fs=fs, detrend='mean', mode = 'phase')\n",
    "plt.show()\n",
    "# print(np.shape(a))\n",
    "# print(np.shape(df_train1.values[j, 1120*i:(i+1)*1120]))\n",
    "# plt.plot(df_train1.values[j, 1120*i:(i+1)*1120])\n",
    "# plt.show()\n",
    "plt.pcolormesh(t, f, Sxx, shading='gouraud')"
   ]
  },
  {
   "cell_type": "code",
   "execution_count": null,
   "id": "f6f196e6",
   "metadata": {},
   "outputs": [],
   "source": [
    "shape = np.shape(df_train3)\n",
    "df_train = np.reshape(df_train3, (shape[0], shape[1], shape[2]*shape[3]))\n",
    "\n",
    "shape = np.shape(df_dev3)\n",
    "df_dev = np.reshape(df_dev3, (shape[0], shape[1], shape[2]*shape[3]))\n",
    "\n",
    "\n",
    "shape = np.shape(df_test3)\n",
    "df_test = np.reshape(df_test3, (shape[0], shape[1], shape[2]*shape[3]))"
   ]
  },
  {
   "cell_type": "markdown",
   "id": "9bed678c",
   "metadata": {},
   "source": [
    "# Create Tensor from labels and data"
   ]
  },
  {
   "cell_type": "code",
   "execution_count": null,
   "id": "0af3062a",
   "metadata": {},
   "outputs": [],
   "source": [
    "# Create tensor from labels\n",
    "# Transform labels in the format 1_9 to binary\n",
    "train_y3 = pd.DataFrame(np.floor(train_y1.values[:].astype('float64')/10))\n",
    "dev_y3 = pd.DataFrame(np.floor(dev_y1.values[:].astype('float64')/10))\n",
    "\n",
    "train_y = torch.FloatTensor(train_y3.values[:])\n",
    "dev_y = torch.FloatTensor(dev_y3.values[:])\n",
    "test_y = torch.FloatTensor(test_y1.values[:])\n",
    "\n",
    "train_x\t= torch.FloatTensor(df_train.astype('float64'))\n",
    "dev_x = torch.FloatTensor(df_dev.astype('float64'))\n",
    "test_x = torch.FloatTensor(df_test.astype('float64'))"
   ]
  },
  {
   "cell_type": "code",
   "execution_count": null,
   "id": "7e2a9f05",
   "metadata": {},
   "outputs": [],
   "source": [
    "from torchvision.models import resnet34\n",
    "\n",
    "class ResNet34(nn.Module):\n",
    "    def __init__(self):\n",
    "        super(ResNet34,self).__init__()\n",
    "        \n",
    "        self.block1 = nn.Sequential(\n",
    "            nn.Conv2d(1,64,kernel_size=2,stride=2,padding=3,bias=False),\n",
    "            nn.BatchNorm2d(64),\n",
    "            nn.ReLU(True)\n",
    "        )\n",
    "        \n",
    "        self.block2 = nn.Sequential(\n",
    "            nn.MaxPool2d(1,1),\n",
    "            ResidualBlock(64,64),\n",
    "            ResidualBlock(64,64,2)\n",
    "        )\n",
    "        \n",
    "        self.block3 = nn.Sequential(\n",
    "            ResidualBlock(64,128),\n",
    "            ResidualBlock(128,128,2)\n",
    "        )\n",
    "        \n",
    "        self.block4 = nn.Sequential(\n",
    "            ResidualBlock(128,256),\n",
    "            ResidualBlock(256,256,2)\n",
    "        )\n",
    "        self.block5 = nn.Sequential(\n",
    "            ResidualBlock(256,512),\n",
    "            ResidualBlock(512,512,2)\n",
    "        )\n",
    "        \n",
    "        self.avgpool = nn.AvgPool2d(2)\n",
    "        # vowel_diacritic\n",
    "        self.fc1 = nn.Linear(512,1)\n",
    "#         # grapheme_root\n",
    "#         self.fc2 = nn.Linear(512,168)\n",
    "#         # consonant_diacritic\n",
    "#         self.fc3 = nn.Linear(512,7)\n",
    "        \n",
    "    def forward(self,x):\n",
    "        x = self.block1(x)\n",
    "        x = self.block2(x)\n",
    "        x = self.block3(x)\n",
    "        x = self.block4(x)\n",
    "        x = self.block5(x)\n",
    "        x = self.avgpool(x)\n",
    "        x = x.view(x.size(0),-1)\n",
    "        x1 = self.fc1(x)\n",
    "#         x2 = self.fc2(x)\n",
    "#         x3 = self.fc3(x)\n",
    "        return x1#,x2,x3"
   ]
  },
  {
   "cell_type": "markdown",
   "id": "8a9281cb",
   "metadata": {},
   "source": [
    "# Define the hyperparameters of the model"
   ]
  },
  {
   "cell_type": "code",
   "execution_count": null,
   "id": "e367db7f",
   "metadata": {},
   "outputs": [],
   "source": [
    "print('Started training')\n",
    "seed = 777\n",
    "torch.manual_seed(seed)\n",
    "\n",
    "#################\n",
    "# choose the gpu\n",
    "gpu_id = 9\n",
    "device = torch.device(\"cuda:\" + str(gpu_id))\n",
    "# device = torch.device(\"cpu\")\n",
    "print(device)\n",
    "\n",
    "#################\n",
    "# Input and output sizes\n",
    "D_in = np.shape(train_x)[2]\n",
    "channels_in = 1\n",
    "channels_out = 1\n",
    "\n",
    "D_out = 1\n",
    "\n",
    "#################\n",
    "# Choose the hidden layer, drop, batch_size, num_epochs, learning_rate\n",
    "# H = 512  #hidden layer size\n",
    "\n",
    "drop = 0.5\n",
    "H1 = [1024, 512, 256, 128]#, 2048,1024, 512\n",
    "N1 = [8, 16, 32, 64]\n",
    "epochs = 100\n",
    "learning_rate = 1e-3\n",
    "kernel_size = 3\n",
    "stride  = 2\n",
    "\n",
    "# loss_fn = torch.nn.BCELoss()BCEWithLogitsLoss\n",
    "# N = batch_size\n",
    "\n",
    "best_epoch = 0\n",
    "dev_acc_max=0\n",
    "epoch_max=0\n",
    "loss_list     = np.zeros((epochs,))\n",
    "accuracy_list = np.zero\n",
    "s((epochs,))\n"
   ]
  },
  {
   "cell_type": "code",
   "execution_count": null,
   "id": "7ce8f3e0",
   "metadata": {
    "scrolled": true
   },
   "outputs": [],
   "source": [
    "for N in N1:\n",
    "    for H in H1:\n",
    "    #         H = 512\n",
    "    #         H2 = 256\n",
    "#         epochs  =1\n",
    "        directory = '/raid/togzhan_syrymova/lump_project/models/'\n",
    "\n",
    "        model = ConvLayerNet3(channels_in, channels_out, D_in, H, D_out, device, drop, kernel_size, stride).to(device)\n",
    "        model_name = type(model).__name__\n",
    "\n",
    "        model_name += '_pressure_' + 'conv2_' + 'epochs_' \\\n",
    "        + str(epochs) + '_bs_' + str(N)+ '_H_' + str(H) \\\n",
    "        + '_drop_' + str(drop) \\\n",
    "        + '_ks_' + str(kernel_size) + '_stride_' + str(stride) + '_spect_1d'\n",
    "        model_path = directory + model_name\n",
    "\n",
    "        optimizer = torch.optim.Adam(model.parameters(), lr=learning_rate)\n",
    "        loss_fn = torch.nn.BCELoss()#BCELoss()\n",
    "        print(model_name)\n",
    "        print(model_path)\n",
    "        print(model)\n",
    "\n",
    "        # for H in H1:\n",
    "        #     for N in N1:\n",
    "        print(H)\n",
    "        print(N)\n",
    "        for e in range(epochs):\n",
    "            total_loss = 0\n",
    "            for i in range(0, train_x.shape[0], N):\n",
    "                if i+N >= train_x.shape[0]:\n",
    "                    x = train_x[i:]\n",
    "                    y = train_y[i:]\n",
    "                else:\n",
    "                    x = train_x[i:i+N]\n",
    "                    y = train_y[i:i+N]\n",
    "                y_pred = model(x.to(device))\n",
    "                loss = loss_fn(y_pred, y.to(device))\n",
    "        #         loss_list[e] = loss.item()\n",
    "                optimizer.zero_grad()\n",
    "                loss.backward()\n",
    "                optimizer.step()\n",
    "                total_loss += loss.item()\n",
    "            print(\"Epoch {}/{}, Train Loss: {:.3f}\".format(e+1, epochs, total_loss))\n",
    "            #pdb.set_trace()\n",
    "            #Loss and accuracy on dev data\n",
    "            with torch.no_grad():\n",
    "                model.eval()\n",
    "                output = model(dev_x.to(device))\n",
    "                output = (output>0.5).float()\n",
    "                acc    = accuracy_score(dev_y, output.cpu())\n",
    "        #         accuracy_list[e] = acc\n",
    "                if acc > dev_acc_max:\n",
    "                    dev_acc_max=acc\n",
    "                    epoch_max=e+1\n",
    "                    torch.save(model, model_path)\n",
    "              #correct = (output == dev_y.to(device)).float().sum()\n",
    "    #             model.train()\n",
    "                torch.save(model, model_path+'_last')\n",
    "            print(\"Dev Accuracy: {:.3f}\".format(acc))\n",
    "\n",
    "        print(\"##############################################\")\n",
    "        print(\"Best dev accuracy is {:.3f} at epoch {}\".format(dev_acc_max, epoch_max))\n",
    "        print(\"Number of class 1 samples: \", (dev_y>0.5).float().sum().item())\n",
    "        print(\"##############################################\")\n",
    "\n",
    "        ####################################################################################################\n",
    "        #Evaluation\n",
    "        ####################################################################################################\n",
    "        with torch.no_grad():\n",
    "        #             pdb.set_trace()\n",
    "            model = torch.load(model_path)\n",
    "            model.eval().to(device)\n",
    "            output = model(test_x.to(device))\n",
    "            output = (output>0.5).float()\n",
    "            acc    = accuracy_score(test_y, output.cpu())\n",
    "            print(\"Test Accuracy: {:.3f}\".format(acc))\n",
    "            print(model)\n",
    "\n",
    "        with torch.no_grad():\n",
    "        #             pdb.set_trace()\n",
    "            model = torch.load(model_path+'_last')\n",
    "            model.eval().to(device)\n",
    "            output = model(test_x.to(device))\n",
    "            output = (output>0.5).float()\n",
    "            acc    = accuracy_score(test_y, output.cpu())\n",
    "            print(\"Test Accuracy Last: {:.3f}\".format(acc))\n",
    "            print(model)\n",
    "exit()"
   ]
  },
  {
   "cell_type": "code",
   "execution_count": null,
   "id": "435dbe67",
   "metadata": {},
   "outputs": [],
   "source": [
    "exit()\n"
   ]
  },
  {
   "cell_type": "code",
   "execution_count": null,
   "id": "659c45ad",
   "metadata": {},
   "outputs": [],
   "source": [
    "with torch.no_grad():\n",
    "#             pdb.set_trace()\n",
    "#     model = torch.load(model_path)\n",
    "    model.eval().to(device)\n",
    "    output = model(test_x.to(device))\n",
    "    output = (output>0.5).float()\n",
    "    acc    = accuracy_score(test_y, output.cpu())\n",
    "    print(\"Test Accuracy: {:.3f}\".format(acc))\n",
    "    print(model)"
   ]
  },
  {
   "cell_type": "code",
   "execution_count": null,
   "id": "bdceff43",
   "metadata": {},
   "outputs": [],
   "source": []
  }
 ],
 "metadata": {
  "kernelspec": {
   "display_name": "Python 3",
   "language": "python",
   "name": "python3"
  },
  "language_info": {
   "codemirror_mode": {
    "name": "ipython",
    "version": 3
   },
   "file_extension": ".py",
   "mimetype": "text/x-python",
   "name": "python",
   "nbconvert_exporter": "python",
   "pygments_lexer": "ipython3",
   "version": "3.8.10"
  }
 },
 "nbformat": 4,
 "nbformat_minor": 5
}
