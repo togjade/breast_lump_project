{
 "cells": [
  {
   "cell_type": "code",
   "execution_count": 26,
   "metadata": {},
   "outputs": [],
   "source": [
    "import numpy as np\n",
    "import pandas as pd\n",
    "import matplotlib.pyplot as plt\n",
    "import os\n",
    "import glob\n",
    "import scipy\n",
    "import sklearn\n",
    "from sklearn.preprocessing import StandardScaler\n",
    "import sklearn.preprocessing as preprocessing\n",
    "from scipy.signal import spectrogram"
   ]
  },
  {
   "cell_type": "code",
   "execution_count": 14,
   "metadata": {},
   "outputs": [
    {
     "data": {
      "text/plain": [
       "11"
      ]
     },
     "execution_count": 14,
     "metadata": {},
     "output_type": "execute_result"
    }
   ],
   "source": [
    "directory = '/Volumes/Samsung_T5/project files/lump_project/data/data_collection'\n",
    "os.chdir(directory)\n",
    "csv_files = glob.glob('*.csv')\n",
    "folder_files = glob.glob('*')\n",
    "folder_files.sort()\n",
    "len(folder_files)"
   ]
  },
  {
   "cell_type": "code",
   "execution_count": null,
   "metadata": {},
   "outputs": [],
   "source": [
    "# 0 to 1 normalization WITH LUMP\n",
    "directory = '/Volumes/Samsung_T5/project files/lump_project/data/data_collection'\n",
    "os.chdir(directory)\n",
    "folder_files = glob.glob('*')\n",
    "folder_files.sort()\n",
    "folder_file = folder_files[0:10]\n",
    "\n",
    "added_limit_with = 32\n",
    "range1_w = 0\n",
    "range2_w = 9\n",
    "norm_type = 0\n",
    "window_size = 0\n",
    "\n",
    "all_subject_accel_1_x, all_subject_accel_1_y, all_subject_accel_2_x ,all_subject_accel_2_y = save_accel_data(folder_file, range1_w, range2_w, added_limit_with)\n",
    "os.chdir(directory + 'W_all_data')\n",
    "# all_subject_pressure_data_with.to_csv('all_subject_pressure_data_with_0_1.csv', index = False, header = False)"
   ]
  },
  {
   "cell_type": "code",
   "execution_count": 8,
   "metadata": {},
   "outputs": [
    {
     "name": "stdout",
     "output_type": "stream",
     "text": [
      "['1', '10', '11', '12', '13', '2', '3', '4', '5', '6', '7', '8', '9']\n",
      "Folder:  /Volumes/Samsung_T5/project files/lump_project/data/data_collection/Asset/10 \n",
      "\n",
      "File skipped:  2022-03-24-13-02-40.csv \n",
      "\n",
      "File skipped:  2022-04-11-08-16-25_ed.csv \n",
      "\n",
      "Folder:  /Volumes/Samsung_T5/project files/lump_project/data/data_collection/Asset/11 \n",
      "\n",
      "File skipped:  2022-03-24-13-41-50.csv \n",
      "\n",
      "Folder:  /Volumes/Samsung_T5/project files/lump_project/data/data_collection/Asset/12 \n",
      "\n",
      "File skipped:  2022-03-30-11-40-21.csv \n",
      "\n",
      "File skipped:  2022-03-30-11-40-33.csv \n",
      "\n",
      "Folder:  /Volumes/Samsung_T5/project files/lump_project/data/data_collection/Asset/13 \n",
      "\n",
      "['1', '10', '11', '12', '13', '2', '3', '4', '5', '6', '7', '8', '9']\n",
      "Folder:  /Volumes/Samsung_T5/project files/lump_project/data/data_collection/Azamat/10 \n",
      "\n",
      "Folder:  /Volumes/Samsung_T5/project files/lump_project/data/data_collection/Azamat/11 \n",
      "\n",
      "File skipped:  2022-03-29-14-49-01.csv \n",
      "\n",
      "Folder:  /Volumes/Samsung_T5/project files/lump_project/data/data_collection/Azamat/12 \n",
      "\n",
      "File skipped:  2022-03-29-15-45-34.csv \n",
      "\n",
      "Folder:  /Volumes/Samsung_T5/project files/lump_project/data/data_collection/Azamat/13 \n",
      "\n",
      "['1', '10', '11', '12', '13', '2', '3', '4', '5', '6', '7', '8', '9']\n",
      "Folder:  /Volumes/Samsung_T5/project files/lump_project/data/data_collection/Daryn/10 \n",
      "\n",
      "Folder:  /Volumes/Samsung_T5/project files/lump_project/data/data_collection/Daryn/11 \n",
      "\n",
      "Folder:  /Volumes/Samsung_T5/project files/lump_project/data/data_collection/Daryn/12 \n",
      "\n",
      "Folder:  /Volumes/Samsung_T5/project files/lump_project/data/data_collection/Daryn/13 \n",
      "\n",
      "['1', '10', '11', '12', '13', '2', '3', '4', '5', '6', '7', '8', '9']\n",
      "Folder:  /Volumes/Samsung_T5/project files/lump_project/data/data_collection/Karina/10 \n",
      "\n",
      "File skipped:  2022-03-14-18-17-13.csv \n",
      "\n",
      "File skipped:  2022-03-14-18-17-29.csv \n",
      "\n",
      "Folder:  /Volumes/Samsung_T5/project files/lump_project/data/data_collection/Karina/11 \n",
      "\n",
      "Folder:  /Volumes/Samsung_T5/project files/lump_project/data/data_collection/Karina/12 \n",
      "\n",
      "Folder:  /Volumes/Samsung_T5/project files/lump_project/data/data_collection/Karina/13 \n",
      "\n",
      "['1', '10', '11', '12', '13', '2', '3', '4', '5', '6', '7', '8', '9']\n",
      "Folder:  /Volumes/Samsung_T5/project files/lump_project/data/data_collection/Lera/10 \n",
      "\n",
      "Folder:  /Volumes/Samsung_T5/project files/lump_project/data/data_collection/Lera/11 \n",
      "\n",
      "Folder:  /Volumes/Samsung_T5/project files/lump_project/data/data_collection/Lera/12 \n",
      "\n",
      "Folder:  /Volumes/Samsung_T5/project files/lump_project/data/data_collection/Lera/13 \n",
      "\n",
      "['1', '10', '11', '12', '13', '2', '3', '4', '5', '6', '7', '8', '9']\n",
      "Folder:  /Volumes/Samsung_T5/project files/lump_project/data/data_collection/Madina/10 \n",
      "\n",
      "Folder:  /Volumes/Samsung_T5/project files/lump_project/data/data_collection/Madina/11 \n",
      "\n",
      "Folder:  /Volumes/Samsung_T5/project files/lump_project/data/data_collection/Madina/12 \n",
      "\n",
      "File skipped:  2022-03-31-20-10-16.csv \n",
      "\n",
      "File skipped:  2022-04-01-13-44-52.csv \n",
      "\n",
      "Folder:  /Volumes/Samsung_T5/project files/lump_project/data/data_collection/Madina/13 \n",
      "\n",
      "File skipped:  2022-04-01-14-08-53.csv \n",
      "\n",
      "File skipped:  2022-04-01-14-09-06.csv \n",
      "\n",
      "['1', '10', '11', '12', '13', '2', '3', '4', '5', '6', '7', '8', '9']\n",
      "Folder:  /Volumes/Samsung_T5/project files/lump_project/data/data_collection/Rassul/10 \n",
      "\n",
      "Folder:  /Volumes/Samsung_T5/project files/lump_project/data/data_collection/Rassul/11 \n",
      "\n",
      "File skipped:  2022-03-19-17-21-37.csv \n",
      "\n",
      "Folder:  /Volumes/Samsung_T5/project files/lump_project/data/data_collection/Rassul/12 \n",
      "\n",
      "Folder:  /Volumes/Samsung_T5/project files/lump_project/data/data_collection/Rassul/13 \n",
      "\n",
      "['1', '10', '11', '12', '13', '2', '3', '4', '5', '6', '7', '8', '9']\n",
      "Folder:  /Volumes/Samsung_T5/project files/lump_project/data/data_collection/Saltanat/10 \n",
      "\n",
      "File skipped:  2022-03-24-17-55-59.csv \n",
      "\n",
      "Folder:  /Volumes/Samsung_T5/project files/lump_project/data/data_collection/Saltanat/11 \n",
      "\n",
      "Folder:  /Volumes/Samsung_T5/project files/lump_project/data/data_collection/Saltanat/12 \n",
      "\n",
      "Folder:  /Volumes/Samsung_T5/project files/lump_project/data/data_collection/Saltanat/13 \n",
      "\n",
      "File skipped:  2022-04-11-08-16-25.csv \n",
      "\n",
      "['1', '10', '11', '12', '13', '2', '3', '4', '5', '6', '7', '8', '9']\n",
      "Folder:  /Volumes/Samsung_T5/project files/lump_project/data/data_collection/Soibhon/10 \n",
      "\n",
      "Folder:  /Volumes/Samsung_T5/project files/lump_project/data/data_collection/Soibhon/11 \n",
      "\n",
      "Folder:  /Volumes/Samsung_T5/project files/lump_project/data/data_collection/Soibhon/12 \n",
      "\n",
      "Folder:  /Volumes/Samsung_T5/project files/lump_project/data/data_collection/Soibhon/13 \n",
      "\n",
      "['1', '10', '11', '12', '13', '2', '3', '4', '5', '6', '7', '8', '9']\n",
      "Folder:  /Volumes/Samsung_T5/project files/lump_project/data/data_collection/Togzhan/10 \n",
      "\n",
      "Folder:  /Volumes/Samsung_T5/project files/lump_project/data/data_collection/Togzhan/11 \n",
      "\n",
      "Folder:  /Volumes/Samsung_T5/project files/lump_project/data/data_collection/Togzhan/12 \n",
      "\n",
      "Folder:  /Volumes/Samsung_T5/project files/lump_project/data/data_collection/Togzhan/13 \n",
      "\n"
     ]
    }
   ],
   "source": [
    "# def save_accel_data(folder_file, range1, range2, added_limit):\n",
    "directory = '/Volumes/Samsung_T5/project files/lump_project/data/data_collection/'\n",
    "os.chdir(directory)\n",
    "csv_files = glob.glob('*.csv')\n",
    "folder_files = glob.glob('*')\n",
    "folder_files.sort()\n",
    "folder_files.sort()\n",
    "\n",
    "folder_files = glob.glob('*')\n",
    "folder_files.sort()\n",
    "folder_file = folder_files[0:10]\n",
    "added_limit= 72\n",
    "range1 = 9\n",
    "range2 = 13\n",
    "norm_type = 0\n",
    "window_size = 0\n",
    "    \n",
    "\n",
    "all_subject_accel_1_x = pd.DataFrame()\n",
    "all_subject_accel_1_y = pd.DataFrame()\n",
    "all_subject_accel_2_x = pd.DataFrame()\n",
    "all_subject_accel_2_y = pd.DataFrame()\n",
    "\n",
    "for file in folder_file:#folder_file:#folder_file:\n",
    "\n",
    "    single_subject_accel_1_x = pd.DataFrame()\n",
    "    single_subject_accel_1_y = pd.DataFrame()\n",
    "    single_subject_accel_2_x = pd.DataFrame()\n",
    "    single_subject_accel_2_y = pd.DataFrame()\n",
    "    csv_files = []\n",
    "\n",
    "    directory_folder = directory + file #folder_file[file] #\n",
    "    os.chdir(directory_folder)\n",
    "    object_folders = glob.glob('*')\n",
    "    print(object_folders)\n",
    "\n",
    "    for i in range(range1, range2): #13\n",
    "        single_folder_accel_1_x = pd.DataFrame()\n",
    "        single_folder_accel_1_y = pd.DataFrame()\n",
    "        single_folder_accel_2_x = pd.DataFrame()\n",
    "        single_folder_accel_2_y = pd.DataFrame()\n",
    "        os.chdir(directory_folder + '/' + str(i + 1))\n",
    "        csv_files = glob.glob('*.csv')\n",
    "        print('Folder: ', directory_folder + '/' + str(i + 1), '\\n')   \n",
    "    #         print(csv_files)\n",
    "        # ITERATE EACH FILE\n",
    "        skipped = 0\n",
    "        added = 0;\n",
    "        for j in range(len(csv_files)): # len(csv_files)\n",
    "\n",
    "            single_ed_sensor_data_1_x = pd.DataFrame()\n",
    "            single_ed_sensor_data_1_y = pd.DataFrame()\n",
    "            single_ed_sensor_data_2_x = pd.DataFrame()\n",
    "            single_ed_sensor_data_2_y = pd.DataFrame()\n",
    "\n",
    "            single_accel_data = pd.DataFrame()\n",
    "            single_accel_data = pd.DataFrame()\n",
    "            single_csv_data = pd.read_csv(csv_files[j], header = None)\n",
    "            single_csv_data.columns = [''] * len(single_csv_data.columns)\n",
    "            single_accel_data = pd.DataFrame(single_csv_data.values[1:1121, 31:]) \n",
    "\n",
    "            if((len(single_accel_data) < 1120) or (added == added_limit)):\n",
    "                skipped = skipped + 1\n",
    "                print('File skipped: ', csv_files[j], '\\n')\n",
    "    #                     break\n",
    "                continue\n",
    "            single_sensor_data_1_x = pd.DataFrame()\n",
    "            single_sensor_data_1_y = pd.DataFrame()\n",
    "            single_sensor_data_2_x = pd.DataFrame()\n",
    "            single_sensor_data_2_y = pd.DataFrame()\n",
    "\n",
    "            for k in range(1120):\n",
    "                single_sensor_data_1_x = pd.DataFrame(single_accel_data.values[k, 0:50]) # 0-49\n",
    "                single_sensor_data_1_y = pd.DataFrame(single_accel_data.values[k, 0+1*50:50*2]) # 50-99\n",
    "                single_sensor_data_2_x = pd.DataFrame(single_accel_data.values[k, 0+2*50:50*3]) # 100-149\n",
    "                single_sensor_data_2_y = pd.DataFrame(single_accel_data.values[k, 0+3*50:50*4]) # 150-200\n",
    "\n",
    "                single_ed_sensor_data_1_x = pd.concat([single_ed_sensor_data_1_x, single_sensor_data_1_x], axis = 0)\n",
    "                single_ed_sensor_data_1_y = pd.concat([single_ed_sensor_data_1_y, single_sensor_data_1_y], axis = 0)\n",
    "                single_ed_sensor_data_2_x = pd.concat([single_ed_sensor_data_2_x, single_sensor_data_2_x], axis = 0)\n",
    "                single_ed_sensor_data_2_y = pd.concat([single_ed_sensor_data_2_y, single_sensor_data_2_y], axis = 0)\n",
    "\n",
    "            single_folder_accel_1_x = pd.concat([single_folder_accel_1_x, single_ed_sensor_data_1_x], axis = 1)\n",
    "            single_folder_accel_1_y = pd.concat([single_folder_accel_1_y, single_ed_sensor_data_1_y], axis = 1)\n",
    "            single_folder_accel_2_x = pd.concat([single_folder_accel_2_x, single_ed_sensor_data_2_x], axis = 1)\n",
    "            single_folder_accel_2_y = pd.concat([single_folder_accel_2_y, single_ed_sensor_data_2_y], axis = 1)\n",
    "\n",
    "            added = added + 1;\n",
    "\n",
    "        if(np.shape(single_folder_accel_1_x)[1] != added_limit):\n",
    "            print('FOLDER SKIPPED: ', np.shape(single_folder_accel_1_x), '\\n')\n",
    "    #                 break\n",
    "            continue\n",
    "        single_subject_accel_1_x = pd.concat([single_subject_accel_1_x, single_folder_accel_1_x], axis = 1)\n",
    "        single_subject_accel_1_y = pd.concat([single_subject_accel_1_y, single_folder_accel_1_y], axis = 1) \n",
    "        single_subject_accel_2_x = pd.concat([single_subject_accel_2_x, single_folder_accel_2_x], axis = 1) \n",
    "        single_subject_accel_2_y = pd.concat([single_subject_accel_2_y, single_folder_accel_2_y], axis = 1) \n",
    "\n",
    "    all_subject_accel_1_x = pd.concat([all_subject_accel_1_x, single_subject_accel_1_x], axis = 1)\n",
    "    all_subject_accel_1_y = pd.concat([all_subject_accel_1_y, single_subject_accel_1_y], axis = 1)\n",
    "    all_subject_accel_2_x = pd.concat([all_subject_accel_2_x, single_subject_accel_2_x], axis = 1)\n",
    "    all_subject_accel_2_y = pd.concat([all_subject_accel_2_y, single_subject_accel_2_y], axis = 1)\n",
    "\n",
    "#         all_subject_accel_1_x = all_subject_accel_1_x.reset_index(drop = True)\n",
    "#         all_subject_accel_1_y = all_subject_accel_1_y.reset_index(drop = True)\n",
    "#         all_subject_accel_2_x = all_subject_accel_2_x.reset_index(drop = True)\n",
    "#         all_subject_accel_2_y = all_subject_accel_2_y.reset_index(drop = True)\n",
    "\n",
    "\n",
    "#     file = file + 1        \n",
    "#     return all_subject_accel_1_x, all_subject_accel_1_y, all_subject_accel_2_x ,all_subject_accel_2_y"
   ]
  },
  {
   "cell_type": "code",
   "execution_count": 16,
   "metadata": {},
   "outputs": [],
   "source": [
    "directory = '/Volumes/Samsung_T5/project files/lump_project/data/data_collection/W_all_data'\n",
    "os.chdir(directory)\n",
    "all_subject_accel_1_x.to_csv('all_subject_accel_1_x_without.csv', index = False, header = False)\n",
    "all_subject_accel_1_y.to_csv('all_subject_accel_1_y_without.csv', index = False, header = False)\n",
    "all_subject_accel_2_x.to_csv('all_subject_accel_2_x_without.csv', index = False, header = False)\n",
    "all_subject_accel_2_y.to_csv('all_subject_accel_2_y_without.csv', index = False, header = False)"
   ]
  },
  {
   "cell_type": "code",
   "execution_count": 49,
   "metadata": {},
   "outputs": [],
   "source": [
    "all_subject_accel_1_xw = all_subject_accel_1_x\n",
    "all_subject_accel_1_yw = all_subject_accel_1_y\n",
    "all_subject_accel_2_xw = all_subject_accel_2_x\n",
    "all_subject_accel_2_yw = all_subject_accel_2_y"
   ]
  },
  {
   "cell_type": "markdown",
   "metadata": {},
   "source": [
    "# Process Accel data"
   ]
  },
  {
   "cell_type": "code",
   "execution_count": 83,
   "metadata": {},
   "outputs": [],
   "source": [
    "directory = '/Volumes/Samsung_T5/project files/lump_project/data/data_collection/W_all_data/accel'\n",
    "os.chdir(directory)\n",
    "def read_data(filename):\n",
    "    data = pd.read_csv(glob.glob(filename)[0], header = None)\n",
    "    data = data.transpose()\n",
    "    return data\n",
    "    \n",
    "names = ['1_x', '1_y', '2_x', '2_y']\n",
    "all_subject_accel_1_x_with = read_data('all*' + names[0] + '.csv')\n",
    "all_subject_accel_1_y_with = read_data('all*' + names[1] + '.csv')\n",
    "all_subject_accel_2_x_with = read_data('all*' + names[2] + '.csv')\n",
    "all_subject_accel_2_y_with = read_data('all*' + names[3] + '.csv')\n",
    "all_subject_accel_1_x_without = read_data('all*' + names[0] + '*without.csv')\n",
    "all_subject_accel_1_y_without = read_data('all*' + names[1] + '*without.csv')\n",
    "all_subject_accel_2_x_without = read_data('all*' + names[2] + '*without.csv')\n",
    "all_subject_accel_2_y_without = read_data('all*' + names[3] + '*without.csv')"
   ]
  },
  {
   "cell_type": "code",
   "execution_count": 99,
   "metadata": {},
   "outputs": [
    {
     "data": {
      "image/png": "[encoded data removed]",
      "text/plain": [
       "<Figure size 432x288 with 1 Axes>"
      ]
     },
     "metadata": {
      "needs_background": "light"
     },
     "output_type": "display_data"
    },
    {
     "data": {
      "text/plain": [
       "[<matplotlib.lines.Line2D at 0x7f963aa5fcd0>]"
      ]
     },
     "execution_count": 99,
     "metadata": {},
     "output_type": "execute_result"
    },
    {
     "data": {
      "image/png": "[encoded data removed]",
      "text/plain": [
       "<Figure size 432x288 with 1 Axes>"
      ]
     },
     "metadata": {
      "needs_background": "light"
     },
     "output_type": "display_data"
    }
   ],
   "source": [
    "plt.plot(filtered_1_x.values[1, :])\n",
    "plt.show()\n",
    "plt.plot(all_subject_accel_1_x_with.values[1, :])"
   ]
  },
  {
   "cell_type": "code",
   "execution_count": 100,
   "metadata": {},
   "outputs": [],
   "source": [
    "def low_pass_data(data, pole, freq):\n",
    "    filtered = pd.DataFrame()\n",
    "    filtered_ = pd.DataFrame()\n",
    "    \n",
    "    for i in range(np.shape(data)[0]):\n",
    "        b, a = scipy.signal.butter(pole, freq)\n",
    "        filtered = scipy.signal.filtfilt(b, a, data.values[i, :])\n",
    "        filtered_ = pd.concat([filtered_, pd.DataFrame(filtered)], axis = 1)\n",
    "    return filtered_.transpose()\n",
    "\n",
    "pole = 3\n",
    "freq = 0.005\n",
    "\n",
    "filtered_1_x = low_pass_data(all_subject_accel_1_x_with, pole, freq)\n",
    "filtered_1_y = low_pass_data(all_subject_accel_1_y_with, pole, freq)\n",
    "filtered_2_x = low_pass_data(all_subject_accel_2_x_with, pole, freq)\n",
    "filtered_2_y = low_pass_data(all_subject_accel_2_y_with, pole, freq)\n",
    "\n",
    "filtered_1_x_without = low_pass_data(all_subject_accel_1_x_without, pole, freq)\n",
    "filtered_1_y_without = low_pass_data(all_subject_accel_1_y_without, pole, freq)\n",
    "filtered_2_x_without = low_pass_data(all_subject_accel_2_x_without, pole, freq)\n",
    "filtered_2_y_without = low_pass_data(all_subject_accel_2_y_without, pole, freq)\n"
   ]
  },
  {
   "cell_type": "code",
   "execution_count": 101,
   "metadata": {},
   "outputs": [],
   "source": [
    "directory = '/Volumes/Samsung_T5/project files/lump_project/data/data_collection/W_all_data'\n",
    "os.chdir(directory)\n",
    "filtered_1_x.to_csv('filtered_1_x.csv', header = None)\n",
    "filtered_1_y.to_csv('filtered_1_y.csv', header = None)\n",
    "filtered_2_x.to_csv('filtered_2_x.csv', header = None)\n",
    "filtered_2_y.to_csv('filtered_2_y.csv', header = None)\n",
    "filtered_1_x_without.to_csv('filtered_1_x_without.csv', header = None)\n",
    "filtered_1_y_without.to_csv('filtered_1_y_without.csv', header = None)\n",
    "filtered_2_x_without.to_csv('filtered_2_x_without.csv', header = None)\n",
    "filtered_2_y_without.to_csv('filtered_2_y_without.csv', header = None)"
   ]
  },
  {
   "cell_type": "code",
   "execution_count": 47,
   "metadata": {},
   "outputs": [
    {
     "data": {
      "image/png": "[encoded data removed]",
      "text/plain": [
       "<Figure size 432x288 with 1 Axes>"
      ]
     },
     "metadata": {
      "needs_background": "light"
     },
     "output_type": "display_data"
    },
    {
     "data": {
      "text/plain": [
       "[<matplotlib.lines.Line2D at 0x7f96a8c44640>]"
      ]
     },
     "execution_count": 47,
     "metadata": {},
     "output_type": "execute_result"
    },
    {
     "data": {
      "image/png": "[encoded data removed]",
      "text/plain": [
       "<Figure size 432x288 with 1 Axes>"
      ]
     },
     "metadata": {
      "needs_background": "light"
     },
     "output_type": "display_data"
    }
   ],
   "source": [
    "\n",
    "%matplotlib inline\n",
    "import numpy as np\n",
    "import matplotlib.pyplot as plt\n",
    "import scipy.fftpack\n",
    "\n",
    "# Number of samplepoints\n",
    "N = 600\n",
    "# sample spacing\n",
    "T = 1.0 / 800.0\n",
    "x = np.linspace(0.0, N*T, N)\n",
    "y = np.sin(50.0 * 2.0*np.pi*x) + 0.5*np.sin(80.0 * 2.0*np.pi*x)\n",
    "yf = scipy.fftpack.fft(y)\n",
    "xf = np.linspace(0.0, 1.0/(2.0*T), N//2)\n",
    "\n",
    "fig, ax = plt.subplots()\n",
    "ax.plot(xf, 2.0/N * np.abs(yf[:N//2]))\n",
    "plt.show()\n",
    "spectrogram(filtered_1_x.values[1, :])"
   ]
  },
  {
   "cell_type": "code",
   "execution_count": null,
   "metadata": {},
   "outputs": [],
   "source": [
    "from scipy.fftpack import fft, ifft\n",
    "\n",
    "X = fft(x)\n",
    "\n",
    "plt.figure(figsize = (12, 6))\n",
    "plt.subplot(121)\n",
    "\n",
    "plt.stem(freq, np.abs(X), 'b', \\\n",
    "         markerfmt=\" \", basefmt=\"-b\")\n",
    "plt.xlabel('Freq (Hz)')\n",
    "plt.ylabel('FFT Amplitude |X(freq)|')\n",
    "plt.xlim(0, 10)\n",
    "\n",
    "plt.subplot(122)\n",
    "plt.plot(t, ifft(X), 'r')\n",
    "plt.xlabel('Time (s)')\n",
    "plt.ylabel('Amplitude')\n",
    "plt.tight_layout()\n",
    "plt.show()"
   ]
  },
  {
   "cell_type": "code",
   "execution_count": null,
   "metadata": {},
   "outputs": [],
   "source": []
  },
  {
   "cell_type": "code",
   "execution_count": null,
   "metadata": {},
   "outputs": [],
   "source": []
  },
  {
   "cell_type": "code",
   "execution_count": null,
   "metadata": {},
   "outputs": [],
   "source": []
  },
  {
   "cell_type": "code",
   "execution_count": null,
   "metadata": {},
   "outputs": [],
   "source": []
  },
  {
   "cell_type": "code",
   "execution_count": null,
   "metadata": {},
   "outputs": [],
   "source": []
  },
  {
   "cell_type": "code",
   "execution_count": null,
   "metadata": {},
   "outputs": [],
   "source": []
  },
  {
   "cell_type": "code",
   "execution_count": null,
   "metadata": {},
   "outputs": [],
   "source": []
  },
  {
   "cell_type": "code",
   "execution_count": null,
   "metadata": {},
   "outputs": [],
   "source": []
  },
  {
   "cell_type": "code",
   "execution_count": null,
   "metadata": {},
   "outputs": [],
   "source": []
  },
  {
   "cell_type": "code",
   "execution_count": null,
   "metadata": {},
   "outputs": [],
   "source": []
  }
 ],
 "metadata": {
  "kernelspec": {
   "display_name": "Python 3 (ipykernel)",
   "language": "python",
   "name": "python3"
  },
  "language_info": {
   "codemirror_mode": {
    "name": "ipython",
    "version": 3
   },
   "file_extension": ".py",
   "mimetype": "text/x-python",
   "name": "python",
   "nbconvert_exporter": "python",
   "pygments_lexer": "ipython3",
   "version": "3.9.7"
  }
 },
 "nbformat": 4,
 "nbformat_minor": 4
}
