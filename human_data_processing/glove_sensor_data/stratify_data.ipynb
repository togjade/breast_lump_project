{
 "cells": [
  {
   "cell_type": "code",
   "execution_count": 57,
   "metadata": {},
   "outputs": [],
   "source": [
    "import numpy as np\n",
    "import pandas as pd\n",
    "from sklearn.model_selection import train_test_split\n",
    "from sklearn.metrics import accuracy_score\n",
    "import os\n",
    "import glob\n",
    "import numpy as np\n",
    "import pandas as pd\n",
    "import matplotlib.pyplot as plt\n",
    "import matplotlib.patheffects as PathEffects\n",
    "\n",
    "import seaborn as sns\n",
    "\n",
    "#from model_arch import *\n",
    "import csv, sys, pdb"
   ]
  },
  {
   "cell_type": "code",
   "execution_count": 59,
   "metadata": {},
   "outputs": [
    {
     "name": "stdout",
     "output_type": "stream",
     "text": [
      "['8_pressure_data_with_raw.csv', '8_pressure_data_without_raw.csv']\n"
     ]
    }
   ],
   "source": [
    "directory = '/Volumes/Samsung_T5/project files/lump_project/data/data_collection/W_all_data/'\n",
    "os.chdir(directory)\n",
    "csv_names = glob.glob('8*raw.*')\n",
    "print(csv_names)"
   ]
  },
  {
   "cell_type": "code",
   "execution_count": 58,
   "metadata": {},
   "outputs": [],
   "source": [
    "k = 0\n",
    "bin_labels = []\n",
    "labels = []\n",
    "labels_no = []\n",
    "for k in range(8):\n",
    "    for i in range(4):\n",
    "        for j in range(72):   \n",
    "            labels_no.append(i + 1)   \n",
    "            bin_labels.append(0)\n",
    "\n",
    "for k in range(8):\n",
    "    for i in range(9):\n",
    "        for j in range(32):   \n",
    "            labels.append(i + 1)  \n",
    "            bin_labels.append(1)\n",
    "\n",
    "            \n",
    "df_label = pd.DataFrame(np.concatenate([labels_no, labels]), index = None)\n",
    "bin_labels = pd.DataFrame(np.transpose(bin_labels))\n",
    "# df_label_n = np.array(df_label.values[:])\n",
    "df_newlabel = (bin_labels).astype(str) + \"_\" + df_label.astype(str)"
   ]
  },
  {
   "cell_type": "code",
   "execution_count": 67,
   "metadata": {},
   "outputs": [
    {
     "name": "stdout",
     "output_type": "stream",
     "text": [
      "['8_pressure_data_with_0_1.csv', '8_pressure_data_without_0_1.csv']\n"
     ]
    }
   ],
   "source": [
    "directory = '/Volumes/Samsung_T5/project files/lump_project/data/data_collection/W_all_data/'\n",
    "os.chdir(directory)\n",
    "csv_names = glob.glob('8*0_1.*')\n",
    "print(csv_names)\n",
    "# os.chdir('/media/togzhan/windows 2/documents/lump_files/data/trial_records/data_collection/W_all_data')\n",
    "\n",
    "df_data_with1 = pd.read_csv(csv_names[0], sep = ',', header = None)\n",
    "df_data_with1.columns = [''] * len(df_data_with1.columns)\n",
    "\n",
    "df_data_without1 = pd.read_csv(csv_names[0], sep = ',', header = None)\n",
    "df_data_without1.columns = [''] * len(df_data_without1.columns)\n",
    "\n",
    "df_data = pd.concat([df_data_without1, df_data_with1], axis = 1)\n",
    "\n",
    "# directory = '/Volumes/Samsung_T5/project files/lump_project/data/data_collection/W_all_data/stdev/'\n",
    "# os.chdir(directory)\n",
    "# csv_names2 = glob.glob('all*stdev_1.*')\n",
    "# print(csv_names2)\n",
    "# os.chdir('/media/togzhan/windows 2/documents/lump_files/data/trial_records/data_collection/W_all_data')\n",
    "\n",
    "# df_data_with2 = pd.read_csv(csv_names2[0], sep = ',', header = None)\n",
    "# df_data_with2.columns = [''] * len(df_data_with2.columns)\n",
    "\n",
    "# df_data_without2 = pd.read_csv(csv_names2[0], sep = ',', header = None)\n",
    "# df_data_without2.columns = [''] * len(df_data_without2.columns)\n",
    "\n",
    "# df_data_with = pd.concat([df_data_with1, df_data_with2], axis = 0)\n",
    "# df_data_without = pd.concat([df_data_without1, df_data_without2], axis = 0)\n",
    "\n",
    "# df_data = pd.concat([df_data_without, df_data_with], axis = 1)\n",
    "\n",
    "\n",
    "df_data_n = np.transpose(df_data)\n",
    "df_data_n = df_data_n.reset_index(drop = True)\n",
    "df_data_n.columns = [''] * len(df_data_n.columns)\n",
    "df_data_x = pd.concat([df_data_n, bin_labels], axis = 1)\n",
    "\n",
    "\n",
    "df_train, df_dev = train_test_split(df_data_x, test_size = 1.0/8, random_state=777, stratify = df_newlabel)\n",
    "# df_dev, df_test = train_test_split(df_eval, test_size = 0.5, random_state=777, stratify = df_eval.values[:, -1])\n",
    "\n",
    "# directory = '/Volumes/Samsung_T5/project files/lump_project/data/data_collection/W_all_data/'\n",
    "# os.chdir(directory)\n",
    "\n",
    "df_train.to_csv(directory + \"df_train_0_1_8.csv\", index=False)\n",
    "df_dev.to_csv(directory + \"df_dev_0_1_8.csv\", index=False)\n",
    "# df_test.to_csv(directory + \"df_test_sm_1.csv\", index=False)"
   ]
  },
  {
   "cell_type": "code",
   "execution_count": null,
   "metadata": {},
   "outputs": [],
   "source": []
  },
  {
   "cell_type": "code",
   "execution_count": null,
   "metadata": {},
   "outputs": [],
   "source": []
  },
  {
   "cell_type": "code",
   "execution_count": null,
   "metadata": {},
   "outputs": [],
   "source": []
  }
 ],
 "metadata": {
  "kernelspec": {
   "display_name": "Python 3 (ipykernel)",
   "language": "python",
   "name": "python3"
  },
  "language_info": {
   "codemirror_mode": {
    "name": "ipython",
    "version": 3
   },
   "file_extension": ".py",
   "mimetype": "text/x-python",
   "name": "python",
   "nbconvert_exporter": "python",
   "pygments_lexer": "ipython3",
   "version": "3.9.7"
  }
 },
 "nbformat": 4,
 "nbformat_minor": 4
}
